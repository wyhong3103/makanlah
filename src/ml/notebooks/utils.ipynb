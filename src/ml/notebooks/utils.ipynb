{
 "cells": [
  {
   "cell_type": "markdown",
   "id": "fe79d5ea-64f8-40df-b96e-643777e8153d",
   "metadata": {},
   "source": [
    "## Upload to Model Registry"
   ]
  },
  {
   "cell_type": "code",
   "execution_count": null,
   "id": "5a0b6bfb-9785-401c-aaa7-5274665c1bc4",
   "metadata": {
    "tags": []
   },
   "outputs": [],
   "source": [
    "import mlflow\n",
    "import mlflow.pytorch"
   ]
  },
  {
   "cell_type": "code",
   "execution_count": null,
   "id": "a32626c9-121b-4b7c-808f-6b0477ab2c5d",
   "metadata": {
    "tags": []
   },
   "outputs": [],
   "source": [
    "## Log local artifact to experiment\n",
    "\n",
    "import sys\n",
    "import torch\n",
    "sys.path.append('../')\n",
    "\n",
    "import torch.nn as nn\n",
    "import torch.optim as optim\n",
    "from torchvision import models\n",
    "import numpy as np\n",
    "import torch.nn.functional as F\n",
    "\n",
    "class MobileNetV2(nn.Module):\n",
    "    def __init__(self, num_classes=30):\n",
    "        super(MobileNetV2, self).__init__()\n",
    "        self.model = models.mobilenet_v2(pretrained=True)\n",
    "        self.model.classifier[1] = nn.Linear(self.model.last_channel, num_classes)\n",
    "\n",
    "    def forward(self, x):\n",
    "        return self.model(x)\n",
    "\n",
    "mlflow.set_tracking_uri(\"http://localhost:5000\")\n",
    "\n",
    "model = MobileNetV2()\n",
    "model.load_state_dict(torch.load('./artifacts/model_v_2_1_epoch_16.pt', weights_only=True, map_location='cpu'))\n",
    "\n",
    "with mlflow.start_run():\n",
    "    mlflow.pytorch.log_model(model, \"model\")"
   ]
  },
  {
   "cell_type": "code",
   "execution_count": null,
   "id": "7f64e943-a1fd-498b-9e5b-5649a6394e1e",
   "metadata": {
    "tags": []
   },
   "outputs": [],
   "source": [
    "import mlflow\n",
    "\n",
    "mlflow.set_tracking_uri(\"http://localhost:5000\")\n",
    "\n",
    "model_uri = f\"runs:/c43d174ed24849fcacaf931dda5605c8/model\"\n",
    "model_name = \"model\"\n",
    "\n",
    "mlflow.register_model(model_uri, model_name)"
   ]
  },
  {
   "cell_type": "markdown",
   "id": "e1482553-c2c3-4318-aa59-37b486131c91",
   "metadata": {},
   "source": [
    "## Upload updated code to S3"
   ]
  },
  {
   "cell_type": "code",
   "execution_count": null,
   "id": "f987929a-d0ae-4fb9-814e-f63c4e20785d",
   "metadata": {
    "tags": []
   },
   "outputs": [],
   "source": [
    "import sys\n",
    "import os\n",
    "\n",
    "sys.path.append('../')\n",
    "\n",
    "from utils.utils import zip_folder, upload_to_s3\n",
    "\n",
    "version = 1\n",
    "folder_to_zip = \"../modules\"\n",
    "zip_file_name = \"ray_modules\"\n",
    "s3_bucket = \"makanlah-s3-bucket\" \n",
    "s3_key = f\"{zip_file_name}-{version}.zip\"\n",
    "\n",
    "zip_file_path = zip_folder(folder_to_zip, zip_file_name)\n",
    "\n",
    "upload_to_s3(zip_file_path, s3_bucket, s3_key)"
   ]
  },
  {
   "cell_type": "markdown",
   "id": "3678c09b-0c45-4073-bc2e-cc27a83e3e81",
   "metadata": {},
   "source": [
    "## Upload data to S3"
   ]
  },
  {
   "cell_type": "code",
   "execution_count": null,
   "id": "511e7a6f-156d-472b-bcc0-7d7363449ffa",
   "metadata": {
    "tags": []
   },
   "outputs": [],
   "source": [
    "import os\n",
    "import awswrangler as wr\n",
    "\n",
    "import os\n",
    "import awswrangler as wr\n",
    "from concurrent.futures import ThreadPoolExecutor\n",
    "\n",
    "def upload_file(local_file_path, s3_file_path):\n",
    "    wr.s3.upload(local_file_path, s3_file_path)\n",
    "\n",
    "def upload_folder_to_s3_parallel(local_folder_path, s3_bucket_path, max_workers=10):\n",
    "    futures = []\n",
    "    \n",
    "    with ThreadPoolExecutor(max_workers=max_workers) as executor:\n",
    "        for root, dirs, files in os.walk(local_folder_path):\n",
    "            for file in files:\n",
    "                local_file_path = os.path.join(root, file)\n",
    "                \n",
    "                relative_file_path = os.path.relpath(local_file_path, local_folder_path)\n",
    "                \n",
    "                s3_file_path = os.path.join(s3_bucket_path, relative_file_path).replace(\"\\\\\", \"/\")\n",
    "                \n",
    "                futures.append(executor.submit(upload_file, local_file_path, s3_file_path))\n",
    "        \n",
    "        for future in futures:\n",
    "            future.result()"
   ]
  },
  {
   "cell_type": "code",
   "execution_count": null,
   "id": "5b7916ca-3edb-4c68-92da-4484b8ccad2d",
   "metadata": {
    "tags": []
   },
   "outputs": [],
   "source": [
    "local_folder_path = '../data/in'\n",
    "s3_bucket_path = 's3://makanlah-s3-bucket/datasets/in'\n",
    "\n",
    "upload_folder_to_s3_parallel(local_folder_path, s3_bucket_path)"
   ]
  },
  {
   "cell_type": "code",
   "execution_count": null,
   "id": "afcede6c-43e7-4c1e-a0ec-b525f68d3dc2",
   "metadata": {
    "tags": []
   },
   "outputs": [],
   "source": [
    "local_folder_path = '../data/out/screens'\n",
    "s3_bucket_path = 's3://makanlah-s3-bucket/datasets/out/screens'\n",
    "\n",
    "upload_folder_to_s3_parallel(local_folder_path, s3_bucket_path)"
   ]
  },
  {
   "cell_type": "code",
   "execution_count": null,
   "id": "bcf780ad-5d2c-4a6a-bf84-9760a59a4127",
   "metadata": {},
   "outputs": [],
   "source": [
    "upload_file('../data/train_outliers.json', 's3://makanlah-s3-bucket/datasets/train_outliers.json')"
   ]
  },
  {
   "cell_type": "code",
   "execution_count": null,
   "id": "9b574dea-2b1b-4e72-b5ce-218969d670b2",
   "metadata": {},
   "outputs": [],
   "source": [
    "upload_file('../data/test_outliers.json', 's3://makanlah-s3-bucket/datasets/test_outliers.json')"
   ]
  },
  {
   "cell_type": "markdown",
   "id": "ff740a86-5274-4224-b314-90b572e7de83",
   "metadata": {},
   "source": [
    "## Sync local data"
   ]
  },
  {
   "cell_type": "code",
   "execution_count": null,
   "id": "ac8a51b1-49b2-4bca-aeb2-c580131b3aa3",
   "metadata": {
    "tags": []
   },
   "outputs": [],
   "source": [
    "import os\n",
    "import numpy as np\n",
    "from PIL import Image, ImageOps\n",
    "import json\n",
    "import boto3\n",
    "from io import BytesIO\n",
    "import botocore.exceptions\n",
    "\n",
    "s3_client = boto3.client('s3')\n",
    "\n",
    "def is_s3_path(path):\n",
    "    return path.lower().startswith(\"s3://\")\n",
    "    \n",
    "def split_name_and_key(path):\n",
    "    return path.replace(\"s3://\", \"\").split(\"/\", 1)\n",
    "\n",
    "def read_json(path):\n",
    "    if is_s3_path(path):\n",
    "        bucket_name, object_key = split_name_and_key(path)\n",
    "        obj = s3_client.get_object(Bucket=bucket_name, Key=object_key)\n",
    "        return json.loads(obj['Body'].read().decode('utf-8'))\n",
    "    else:\n",
    "        with open(path, 'r') as f:\n",
    "            return json.load(f)\n",
    "\n",
    "def read_image(path):\n",
    "    if is_s3_path(path):\n",
    "        bucket_name, object_key = split_name_and_key(path)\n",
    "        obj = s3_client.get_object(Bucket=bucket_name, Key=object_key)\n",
    "        img_data = obj['Body'].read()\n",
    "        img = Image.open(BytesIO(img_data)).convert('RGB')\n",
    "        return img\n",
    "    else:\n",
    "        img = Image.open(path).convert('RGB')\n",
    "        return img"
   ]
  },
  {
   "cell_type": "code",
   "execution_count": null,
   "id": "89e3c3f0-ba83-466c-868b-9f19fca3ba1a",
   "metadata": {
    "tags": []
   },
   "outputs": [],
   "source": [
    "for i in ['train_food.json', 'test_food.json', 'train_outliers.json', 'test_outliers.json']:\n",
    "    s3_uri = 's3://makanlah-s3-bucket/datasets/' + i\n",
    "    \n",
    "    s3_dict = read_json(s3_uri)\n",
    "    \n",
    "    with open('../data/' + i, 'w') as json_file:\n",
    "        json.dump(s3_dict, json_file, indent=4)\n",
    "    \n",
    "    for i in s3_dict:\n",
    "        if not os.path.exists('../data/' + i['path']):\n",
    "            img = read_image('s3://makanlah-s3-bucket/datasets/' + i['path'])\n",
    "            img.save('../data/' + i['path'])"
   ]
  },
  {
   "cell_type": "code",
   "execution_count": null,
   "id": "154937f4-2ea3-4c86-9f4d-16ab5a6913e3",
   "metadata": {},
   "outputs": [],
   "source": []
  }
 ],
 "metadata": {
  "kernelspec": {
   "display_name": "Python 3 (ipykernel)",
   "language": "python",
   "name": "python3"
  },
  "language_info": {
   "codemirror_mode": {
    "name": "ipython",
    "version": 3
   },
   "file_extension": ".py",
   "mimetype": "text/x-python",
   "name": "python",
   "nbconvert_exporter": "python",
   "pygments_lexer": "ipython3",
   "version": "3.10.0"
  }
 },
 "nbformat": 4,
 "nbformat_minor": 5
}
